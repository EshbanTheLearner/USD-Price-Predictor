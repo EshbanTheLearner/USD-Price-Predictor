{
 "cells": [
  {
   "cell_type": "markdown",
   "metadata": {},
   "source": [
    "## Importing Required Libraries"
   ]
  },
  {
   "cell_type": "code",
   "execution_count": 0,
   "metadata": {
    "colab": {},
    "colab_type": "code",
    "id": "3aEDAx202wfc"
   },
   "outputs": [],
   "source": [
    "import numpy as np\n",
    "import pandas as pd\n",
    "import matplotlib.pyplot as plt\n",
    "\n",
    "import matplotlib.dates as mdates\n",
    "\n",
    "from pylab import rcParams\n",
    "\n",
    "from sklearn.preprocessing import MinMaxScaler\n",
    "from sklearn.metrics import mean_squared_error\n",
    "\n",
    "import math\n",
    "from math import sqrt\n",
    "\n",
    "from keras.models import Sequential\n",
    "from keras.layers import Dense\n",
    "from keras.layers import LSTM\n",
    "from keras.layers import Dropout"
   ]
  },
  {
   "cell_type": "markdown",
   "metadata": {},
   "source": [
    "#### Setting Figure Size"
   ]
  },
  {
   "cell_type": "code",
   "execution_count": 0,
   "metadata": {
    "colab": {},
    "colab_type": "code",
    "id": "6M8i-J-_3VMJ"
   },
   "outputs": [],
   "source": [
    "rcParams['figure.figsize'] = 16, 8"
   ]
  },
  {
   "cell_type": "markdown",
   "metadata": {},
   "source": [
    "### Reading Data"
   ]
  },
  {
   "cell_type": "code",
   "execution_count": 0,
   "metadata": {
    "colab": {},
    "colab_type": "code",
    "id": "AsCxD-hA3tqg"
   },
   "outputs": [],
   "source": [
    "df = pd.read_csv('Data.csv', sep=',', na_values='?')"
   ]
  },
  {
   "cell_type": "markdown",
   "metadata": {},
   "source": [
    "### Viewing First 5 Rows"
   ]
  },
  {
   "cell_type": "code",
   "execution_count": 4,
   "metadata": {
    "colab": {
     "base_uri": "https://localhost:8080/",
     "height": 197
    },
    "colab_type": "code",
    "id": "nXu31Pxj4Dod",
    "outputId": "3fa71aba-5002-452f-fc1c-757f6c6a01a8"
   },
   "outputs": [
    {
     "data": {
      "text/html": [
       "<div>\n",
       "<style scoped>\n",
       "    .dataframe tbody tr th:only-of-type {\n",
       "        vertical-align: middle;\n",
       "    }\n",
       "\n",
       "    .dataframe tbody tr th {\n",
       "        vertical-align: top;\n",
       "    }\n",
       "\n",
       "    .dataframe thead th {\n",
       "        text-align: right;\n",
       "    }\n",
       "</style>\n",
       "<table border=\"1\" class=\"dataframe\">\n",
       "  <thead>\n",
       "    <tr style=\"text-align: right;\">\n",
       "      <th></th>\n",
       "      <th>Date</th>\n",
       "      <th>Price</th>\n",
       "      <th>Open</th>\n",
       "      <th>High</th>\n",
       "      <th>Low</th>\n",
       "      <th>Change %</th>\n",
       "    </tr>\n",
       "  </thead>\n",
       "  <tbody>\n",
       "    <tr>\n",
       "      <th>0</th>\n",
       "      <td>Oct 25, 2019</td>\n",
       "      <td>156.375</td>\n",
       "      <td>155.80</td>\n",
       "      <td>156.975</td>\n",
       "      <td>155.33</td>\n",
       "      <td>0.56%</td>\n",
       "    </tr>\n",
       "    <tr>\n",
       "      <th>1</th>\n",
       "      <td>Oct 24, 2019</td>\n",
       "      <td>155.500</td>\n",
       "      <td>155.70</td>\n",
       "      <td>156.460</td>\n",
       "      <td>155.30</td>\n",
       "      <td>-0.35%</td>\n",
       "    </tr>\n",
       "    <tr>\n",
       "      <th>2</th>\n",
       "      <td>Oct 23, 2019</td>\n",
       "      <td>156.050</td>\n",
       "      <td>155.45</td>\n",
       "      <td>156.420</td>\n",
       "      <td>155.45</td>\n",
       "      <td>-0.19%</td>\n",
       "    </tr>\n",
       "    <tr>\n",
       "      <th>3</th>\n",
       "      <td>Oct 22, 2019</td>\n",
       "      <td>156.350</td>\n",
       "      <td>156.45</td>\n",
       "      <td>157.100</td>\n",
       "      <td>155.50</td>\n",
       "      <td>-0.03%</td>\n",
       "    </tr>\n",
       "    <tr>\n",
       "      <th>4</th>\n",
       "      <td>Oct 21, 2019</td>\n",
       "      <td>156.400</td>\n",
       "      <td>155.67</td>\n",
       "      <td>156.550</td>\n",
       "      <td>155.65</td>\n",
       "      <td>0.02%</td>\n",
       "    </tr>\n",
       "  </tbody>\n",
       "</table>\n",
       "</div>"
      ],
      "text/plain": [
       "           Date    Price    Open     High     Low Change %\n",
       "0  Oct 25, 2019  156.375  155.80  156.975  155.33    0.56%\n",
       "1  Oct 24, 2019  155.500  155.70  156.460  155.30   -0.35%\n",
       "2  Oct 23, 2019  156.050  155.45  156.420  155.45   -0.19%\n",
       "3  Oct 22, 2019  156.350  156.45  157.100  155.50   -0.03%\n",
       "4  Oct 21, 2019  156.400  155.67  156.550  155.65    0.02%"
      ]
     },
     "execution_count": 4,
     "metadata": {
      "tags": []
     },
     "output_type": "execute_result"
    }
   ],
   "source": [
    "df.head()"
   ]
  },
  {
   "cell_type": "markdown",
   "metadata": {},
   "source": [
    "### Checking the Data Types of Attributes/Features"
   ]
  },
  {
   "cell_type": "code",
   "execution_count": 5,
   "metadata": {
    "colab": {
     "base_uri": "https://localhost:8080/",
     "height": 141
    },
    "colab_type": "code",
    "id": "O3h4KQVr4FUg",
    "outputId": "82da7a4b-668e-4716-e3f3-db610fe76163"
   },
   "outputs": [
    {
     "data": {
      "text/plain": [
       "Date         object\n",
       "Price       float64\n",
       "Open        float64\n",
       "High        float64\n",
       "Low         float64\n",
       "Change %     object\n",
       "dtype: object"
      ]
     },
     "execution_count": 5,
     "metadata": {
      "tags": []
     },
     "output_type": "execute_result"
    }
   ],
   "source": [
    "df.dtypes"
   ]
  },
  {
   "cell_type": "markdown",
   "metadata": {},
   "source": [
    "### Descriptive Statistics"
   ]
  },
  {
   "cell_type": "code",
   "execution_count": 6,
   "metadata": {
    "colab": {
     "base_uri": "https://localhost:8080/",
     "height": 287
    },
    "colab_type": "code",
    "id": "CQQ-bqDT4JYS",
    "outputId": "3e4a881c-6172-4016-a62f-8c4415113409"
   },
   "outputs": [
    {
     "data": {
      "text/html": [
       "<div>\n",
       "<style scoped>\n",
       "    .dataframe tbody tr th:only-of-type {\n",
       "        vertical-align: middle;\n",
       "    }\n",
       "\n",
       "    .dataframe tbody tr th {\n",
       "        vertical-align: top;\n",
       "    }\n",
       "\n",
       "    .dataframe thead th {\n",
       "        text-align: right;\n",
       "    }\n",
       "</style>\n",
       "<table border=\"1\" class=\"dataframe\">\n",
       "  <thead>\n",
       "    <tr style=\"text-align: right;\">\n",
       "      <th></th>\n",
       "      <th>Price</th>\n",
       "      <th>Open</th>\n",
       "      <th>High</th>\n",
       "      <th>Low</th>\n",
       "    </tr>\n",
       "  </thead>\n",
       "  <tbody>\n",
       "    <tr>\n",
       "      <th>count</th>\n",
       "      <td>3081.000000</td>\n",
       "      <td>3081.000000</td>\n",
       "      <td>3081.000000</td>\n",
       "      <td>3081.000000</td>\n",
       "    </tr>\n",
       "    <tr>\n",
       "      <th>mean</th>\n",
       "      <td>104.782046</td>\n",
       "      <td>104.676999</td>\n",
       "      <td>104.956490</td>\n",
       "      <td>104.429833</td>\n",
       "    </tr>\n",
       "    <tr>\n",
       "      <th>std</th>\n",
       "      <td>17.216754</td>\n",
       "      <td>17.145660</td>\n",
       "      <td>17.370332</td>\n",
       "      <td>16.886642</td>\n",
       "    </tr>\n",
       "    <tr>\n",
       "      <th>min</th>\n",
       "      <td>83.550000</td>\n",
       "      <td>83.450000</td>\n",
       "      <td>83.800000</td>\n",
       "      <td>83.300000</td>\n",
       "    </tr>\n",
       "    <tr>\n",
       "      <th>25%</th>\n",
       "      <td>94.650000</td>\n",
       "      <td>94.550000</td>\n",
       "      <td>94.710000</td>\n",
       "      <td>94.450000</td>\n",
       "    </tr>\n",
       "    <tr>\n",
       "      <th>50%</th>\n",
       "      <td>103.575000</td>\n",
       "      <td>103.400000</td>\n",
       "      <td>103.710000</td>\n",
       "      <td>103.300000</td>\n",
       "    </tr>\n",
       "    <tr>\n",
       "      <th>75%</th>\n",
       "      <td>105.380000</td>\n",
       "      <td>105.400000</td>\n",
       "      <td>105.495000</td>\n",
       "      <td>105.335000</td>\n",
       "    </tr>\n",
       "    <tr>\n",
       "      <th>max</th>\n",
       "      <td>163.500000</td>\n",
       "      <td>163.125000</td>\n",
       "      <td>165.375000</td>\n",
       "      <td>163.125000</td>\n",
       "    </tr>\n",
       "  </tbody>\n",
       "</table>\n",
       "</div>"
      ],
      "text/plain": [
       "             Price         Open         High          Low\n",
       "count  3081.000000  3081.000000  3081.000000  3081.000000\n",
       "mean    104.782046   104.676999   104.956490   104.429833\n",
       "std      17.216754    17.145660    17.370332    16.886642\n",
       "min      83.550000    83.450000    83.800000    83.300000\n",
       "25%      94.650000    94.550000    94.710000    94.450000\n",
       "50%     103.575000   103.400000   103.710000   103.300000\n",
       "75%     105.380000   105.400000   105.495000   105.335000\n",
       "max     163.500000   163.125000   165.375000   163.125000"
      ]
     },
     "execution_count": 6,
     "metadata": {
      "tags": []
     },
     "output_type": "execute_result"
    }
   ],
   "source": [
    "df.describe()"
   ]
  },
  {
   "cell_type": "markdown",
   "metadata": {},
   "source": [
    "### Converting Date Datatype from Object to DateTime"
   ]
  },
  {
   "cell_type": "code",
   "execution_count": 0,
   "metadata": {
    "colab": {},
    "colab_type": "code",
    "id": "VDtKzKkv4icW"
   },
   "outputs": [],
   "source": [
    "df['Date'] = pd.to_datetime(df['Date'])"
   ]
  },
  {
   "cell_type": "markdown",
   "metadata": {},
   "source": [
    "### Dropping unwanted Columns"
   ]
  },
  {
   "cell_type": "code",
   "execution_count": 0,
   "metadata": {
    "colab": {},
    "colab_type": "code",
    "id": "AR6htipa4Sdk"
   },
   "outputs": [],
   "source": [
    "df = df.drop('Open', 1)\n",
    "df = df.drop('High', 1)\n",
    "df = df.drop('Low', 1)\n",
    "df = df.drop('Change %', 1)"
   ]
  },
  {
   "cell_type": "code",
   "execution_count": 9,
   "metadata": {
    "colab": {
     "base_uri": "https://localhost:8080/",
     "height": 197
    },
    "colab_type": "code",
    "id": "W1pUTlsy4o4m",
    "outputId": "cf57c28d-1044-4a6c-8bf0-b194ca06a588"
   },
   "outputs": [
    {
     "data": {
      "text/html": [
       "<div>\n",
       "<style scoped>\n",
       "    .dataframe tbody tr th:only-of-type {\n",
       "        vertical-align: middle;\n",
       "    }\n",
       "\n",
       "    .dataframe tbody tr th {\n",
       "        vertical-align: top;\n",
       "    }\n",
       "\n",
       "    .dataframe thead th {\n",
       "        text-align: right;\n",
       "    }\n",
       "</style>\n",
       "<table border=\"1\" class=\"dataframe\">\n",
       "  <thead>\n",
       "    <tr style=\"text-align: right;\">\n",
       "      <th></th>\n",
       "      <th>Date</th>\n",
       "      <th>Price</th>\n",
       "    </tr>\n",
       "  </thead>\n",
       "  <tbody>\n",
       "    <tr>\n",
       "      <th>0</th>\n",
       "      <td>2019-10-25</td>\n",
       "      <td>156.375</td>\n",
       "    </tr>\n",
       "    <tr>\n",
       "      <th>1</th>\n",
       "      <td>2019-10-24</td>\n",
       "      <td>155.500</td>\n",
       "    </tr>\n",
       "    <tr>\n",
       "      <th>2</th>\n",
       "      <td>2019-10-23</td>\n",
       "      <td>156.050</td>\n",
       "    </tr>\n",
       "    <tr>\n",
       "      <th>3</th>\n",
       "      <td>2019-10-22</td>\n",
       "      <td>156.350</td>\n",
       "    </tr>\n",
       "    <tr>\n",
       "      <th>4</th>\n",
       "      <td>2019-10-21</td>\n",
       "      <td>156.400</td>\n",
       "    </tr>\n",
       "  </tbody>\n",
       "</table>\n",
       "</div>"
      ],
      "text/plain": [
       "        Date    Price\n",
       "0 2019-10-25  156.375\n",
       "1 2019-10-24  155.500\n",
       "2 2019-10-23  156.050\n",
       "3 2019-10-22  156.350\n",
       "4 2019-10-21  156.400"
      ]
     },
     "execution_count": 9,
     "metadata": {
      "tags": []
     },
     "output_type": "execute_result"
    }
   ],
   "source": [
    "df.head()"
   ]
  },
  {
   "cell_type": "markdown",
   "metadata": {},
   "source": [
    "### Scaling the *Price* Feature to be in a range of 0 to 1"
   ]
  },
  {
   "cell_type": "code",
   "execution_count": 0,
   "metadata": {
    "colab": {},
    "colab_type": "code",
    "id": "zuy97PnT46rm"
   },
   "outputs": [],
   "source": [
    "scaler = MinMaxScaler(feature_range=(0, 1))\n",
    "df['Price'] = scaler.fit_transform(df[['Price']])"
   ]
  },
  {
   "cell_type": "code",
   "execution_count": 12,
   "metadata": {
    "colab": {
     "base_uri": "https://localhost:8080/",
     "height": 287
    },
    "colab_type": "code",
    "id": "FRezY1m15Im-",
    "outputId": "fb87e21c-644c-423a-dc7f-2c12a2cb07f7"
   },
   "outputs": [
    {
     "data": {
      "text/html": [
       "<div>\n",
       "<style scoped>\n",
       "    .dataframe tbody tr th:only-of-type {\n",
       "        vertical-align: middle;\n",
       "    }\n",
       "\n",
       "    .dataframe tbody tr th {\n",
       "        vertical-align: top;\n",
       "    }\n",
       "\n",
       "    .dataframe thead th {\n",
       "        text-align: right;\n",
       "    }\n",
       "</style>\n",
       "<table border=\"1\" class=\"dataframe\">\n",
       "  <thead>\n",
       "    <tr style=\"text-align: right;\">\n",
       "      <th></th>\n",
       "      <th>Price</th>\n",
       "    </tr>\n",
       "  </thead>\n",
       "  <tbody>\n",
       "    <tr>\n",
       "      <th>count</th>\n",
       "      <td>3081.000000</td>\n",
       "    </tr>\n",
       "    <tr>\n",
       "      <th>mean</th>\n",
       "      <td>0.265567</td>\n",
       "    </tr>\n",
       "    <tr>\n",
       "      <th>std</th>\n",
       "      <td>0.215344</td>\n",
       "    </tr>\n",
       "    <tr>\n",
       "      <th>min</th>\n",
       "      <td>0.000000</td>\n",
       "    </tr>\n",
       "    <tr>\n",
       "      <th>25%</th>\n",
       "      <td>0.138837</td>\n",
       "    </tr>\n",
       "    <tr>\n",
       "      <th>50%</th>\n",
       "      <td>0.250469</td>\n",
       "    </tr>\n",
       "    <tr>\n",
       "      <th>75%</th>\n",
       "      <td>0.273046</td>\n",
       "    </tr>\n",
       "    <tr>\n",
       "      <th>max</th>\n",
       "      <td>1.000000</td>\n",
       "    </tr>\n",
       "  </tbody>\n",
       "</table>\n",
       "</div>"
      ],
      "text/plain": [
       "             Price\n",
       "count  3081.000000\n",
       "mean      0.265567\n",
       "std       0.215344\n",
       "min       0.000000\n",
       "25%       0.138837\n",
       "50%       0.250469\n",
       "75%       0.273046\n",
       "max       1.000000"
      ]
     },
     "execution_count": 12,
     "metadata": {
      "tags": []
     },
     "output_type": "execute_result"
    }
   ],
   "source": [
    "df.describe()"
   ]
  },
  {
   "cell_type": "markdown",
   "metadata": {},
   "source": [
    "### Setting Date as Index and Sorting Rows according to Date"
   ]
  },
  {
   "cell_type": "code",
   "execution_count": 0,
   "metadata": {
    "colab": {},
    "colab_type": "code",
    "id": "T5618muj5KUe"
   },
   "outputs": [],
   "source": [
    "df = df.sort_values('Date')\n",
    "df = df.reset_index()\n",
    "df = df.drop('index', axis=1)\n",
    "df = df.set_index('Date')"
   ]
  },
  {
   "cell_type": "markdown",
   "metadata": {},
   "source": [
    "### Plotting the Closing Prices of USD in PKR"
   ]
  },
  {
   "cell_type": "code",
   "execution_count": 35,
   "metadata": {
    "colab": {
     "base_uri": "https://localhost:8080/",
     "height": 516
    },
    "colab_type": "code",
    "id": "2zol5Zf5Jp9m",
    "outputId": "d6b35b00-9108-4ea1-db81-43255219b03a"
   },
   "outputs": [
    {
     "data": {
      "image/png": "[encoded data removed]",
      "text/plain": [
       "<Figure size 1152x576 with 1 Axes>"
      ]
     },
     "metadata": {
      "tags": []
     },
     "output_type": "display_data"
    }
   ],
   "source": [
    "fig, ax = plt.subplots()\n",
    "ax.plot(df,label='Closing Price USD in PKR')\n",
    "ax.legend(fontsize=12)\n",
    "ax.xaxis.set_major_locator(mdates.YearLocator())\n",
    "plt.xlabel('Date')\n",
    "plt.ylabel('Close Price')\n",
    "plt.show()"
   ]
  },
  {
   "cell_type": "markdown",
   "metadata": {},
   "source": [
    "### Splitting Data into a 75:25 Ratio"
   ]
  },
  {
   "cell_type": "code",
   "execution_count": 0,
   "metadata": {
    "colab": {},
    "colab_type": "code",
    "id": "0prfdd3S9G_-"
   },
   "outputs": [],
   "source": [
    "X_train = df[:2310]\n",
    "X_test = df[2310:]"
   ]
  },
  {
   "cell_type": "markdown",
   "metadata": {},
   "source": [
    "### Utility Function to Generate Dataset"
   ]
  },
  {
   "cell_type": "code",
   "execution_count": 0,
   "metadata": {
    "colab": {},
    "colab_type": "code",
    "id": "gWU7jJ8X9XAP"
   },
   "outputs": [],
   "source": [
    "def generate_dataset(dataset, look_back=1):\n",
    "  X, y = [], []\n",
    "  for i in range(len(dataset)-look_back-1):\n",
    "    a = dataset[i:(i+look_back), 0]\n",
    "    X.append(a)\n",
    "    y.append(dataset[i + look_back, 0])\n",
    "  return np.array(X), np.array(y)"
   ]
  },
  {
   "cell_type": "markdown",
   "metadata": {},
   "source": [
    "### Generating Dataset"
   ]
  },
  {
   "cell_type": "code",
   "execution_count": 0,
   "metadata": {
    "colab": {},
    "colab_type": "code",
    "id": "E9x7Y6Cs9Y0a"
   },
   "outputs": [],
   "source": [
    "look_back = 1\n",
    "X_train, y_train = generate_dataset(X_train.values, look_back)\n",
    "X_test, y_test = generate_dataset(X_test.values, look_back)"
   ]
  },
  {
   "cell_type": "markdown",
   "metadata": {},
   "source": [
    "### Reshaping the Train and Test sets for further processing"
   ]
  },
  {
   "cell_type": "code",
   "execution_count": 0,
   "metadata": {
    "colab": {},
    "colab_type": "code",
    "id": "Lyp1ky_VCl4n"
   },
   "outputs": [],
   "source": [
    "X_train = np.reshape(X_train, (X_train.shape[0], 1, X_train.shape[1]))\n",
    "y_train = np.reshape(y_train, (y_train.shape[0], 1, 1))\n",
    "\n",
    "X_test = np.reshape(X_test, (X_test.shape[0], 1, X_test.shape[1]))\n",
    "y_test = np.reshape(y_test, (y_test.shape[0], 1, 1))"
   ]
  },
  {
   "cell_type": "markdown",
   "metadata": {},
   "source": [
    "## Building our Model"
   ]
  },
  {
   "cell_type": "code",
   "execution_count": 24,
   "metadata": {
    "colab": {
     "base_uri": "https://localhost:8080/",
     "height": 232
    },
    "colab_type": "code",
    "id": "6G-3xlNCCp6J",
    "outputId": "4c35790d-4096-4a1d-de9a-844353b2ae3b"
   },
   "outputs": [
    {
     "name": "stdout",
     "output_type": "stream",
     "text": [
      "WARNING:tensorflow:From /usr/local/lib/python3.6/dist-packages/keras/backend/tensorflow_backend.py:66: The name tf.get_default_graph is deprecated. Please use tf.compat.v1.get_default_graph instead.\n",
      "\n",
      "WARNING:tensorflow:From /usr/local/lib/python3.6/dist-packages/keras/backend/tensorflow_backend.py:541: The name tf.placeholder is deprecated. Please use tf.compat.v1.placeholder instead.\n",
      "\n",
      "WARNING:tensorflow:From /usr/local/lib/python3.6/dist-packages/keras/backend/tensorflow_backend.py:4432: The name tf.random_uniform is deprecated. Please use tf.random.uniform instead.\n",
      "\n",
      "WARNING:tensorflow:From /usr/local/lib/python3.6/dist-packages/keras/backend/tensorflow_backend.py:148: The name tf.placeholder_with_default is deprecated. Please use tf.compat.v1.placeholder_with_default instead.\n",
      "\n",
      "WARNING:tensorflow:From /usr/local/lib/python3.6/dist-packages/keras/backend/tensorflow_backend.py:3733: calling dropout (from tensorflow.python.ops.nn_ops) with keep_prob is deprecated and will be removed in a future version.\n",
      "Instructions for updating:\n",
      "Please use `rate` instead of `keep_prob`. Rate should be set to `rate = 1 - keep_prob`.\n"
     ]
    }
   ],
   "source": [
    "model = Sequential()\n",
    "model.add(LSTM(units=64, return_sequences=True, input_shape=(1, 1)))\n",
    "model.add(Dropout(0.5))\n",
    "model.add(Dense(units=1))"
   ]
  },
  {
   "cell_type": "markdown",
   "metadata": {},
   "source": [
    "### Compiling our Model"
   ]
  },
  {
   "cell_type": "code",
   "execution_count": 25,
   "metadata": {
    "colab": {
     "base_uri": "https://localhost:8080/",
     "height": 72
    },
    "colab_type": "code",
    "id": "sctjgHxRDY1g",
    "outputId": "ba1ca9b3-63ec-453d-97fd-e6a3c93b2d3a"
   },
   "outputs": [
    {
     "name": "stdout",
     "output_type": "stream",
     "text": [
      "WARNING:tensorflow:From /usr/local/lib/python3.6/dist-packages/keras/optimizers.py:793: The name tf.train.Optimizer is deprecated. Please use tf.compat.v1.train.Optimizer instead.\n",
      "\n"
     ]
    }
   ],
   "source": [
    "model.compile(loss='mean_squared_error', optimizer='adam', metrics=['accuracy'])"
   ]
  },
  {
   "cell_type": "markdown",
   "metadata": {},
   "source": [
    "### Our Model Summary"
   ]
  },
  {
   "cell_type": "code",
   "execution_count": 26,
   "metadata": {
    "colab": {
     "base_uri": "https://localhost:8080/",
     "height": 265
    },
    "colab_type": "code",
    "id": "c50HZBHOEFeR",
    "outputId": "8c84727a-010c-4d45-b873-362552f154e0"
   },
   "outputs": [
    {
     "name": "stdout",
     "output_type": "stream",
     "text": [
      "Model: \"sequential_1\"\n",
      "_________________________________________________________________\n",
      "Layer (type)                 Output Shape              Param #   \n",
      "=================================================================\n",
      "lstm_1 (LSTM)                (None, 1, 64)             16896     \n",
      "_________________________________________________________________\n",
      "dropout_1 (Dropout)          (None, 1, 64)             0         \n",
      "_________________________________________________________________\n",
      "dense_1 (Dense)              (None, 1, 1)              65        \n",
      "=================================================================\n",
      "Total params: 16,961\n",
      "Trainable params: 16,961\n",
      "Non-trainable params: 0\n",
      "_________________________________________________________________\n"
     ]
    }
   ],
   "source": [
    "model.summary()"
   ]
  },
  {
   "cell_type": "markdown",
   "metadata": {},
   "source": [
    "### Training our Model"
   ]
  },
  {
   "cell_type": "code",
   "execution_count": 27,
   "metadata": {
    "colab": {
     "base_uri": "https://localhost:8080/",
     "height": 1000
    },
    "colab_type": "code",
    "id": "QuNoVyzeEG_v",
    "outputId": "c337f07e-af2e-4767-b8dc-3fd0f965b244"
   },
   "outputs": [
    {
     "name": "stdout",
     "output_type": "stream",
     "text": [
      "WARNING:tensorflow:From /usr/local/lib/python3.6/dist-packages/tensorflow_core/python/ops/math_grad.py:1424: where (from tensorflow.python.ops.array_ops) is deprecated and will be removed in a future version.\n",
      "Instructions for updating:\n",
      "Use tf.where in 2.0, which has the same broadcast rule as np.where\n",
      "WARNING:tensorflow:From /usr/local/lib/python3.6/dist-packages/keras/backend/tensorflow_backend.py:1033: The name tf.assign_add is deprecated. Please use tf.compat.v1.assign_add instead.\n",
      "\n",
      "WARNING:tensorflow:From /usr/local/lib/python3.6/dist-packages/keras/backend/tensorflow_backend.py:1020: The name tf.assign is deprecated. Please use tf.compat.v1.assign instead.\n",
      "\n",
      "WARNING:tensorflow:From /usr/local/lib/python3.6/dist-packages/keras/backend/tensorflow_backend.py:3005: The name tf.Session is deprecated. Please use tf.compat.v1.Session instead.\n",
      "\n",
      "Train on 1546 samples, validate on 762 samples\n",
      "Epoch 1/100\n",
      "WARNING:tensorflow:From /usr/local/lib/python3.6/dist-packages/keras/backend/tensorflow_backend.py:190: The name tf.get_default_session is deprecated. Please use tf.compat.v1.get_default_session instead.\n",
      "\n",
      "WARNING:tensorflow:From /usr/local/lib/python3.6/dist-packages/keras/backend/tensorflow_backend.py:197: The name tf.ConfigProto is deprecated. Please use tf.compat.v1.ConfigProto instead.\n",
      "\n",
      "WARNING:tensorflow:From /usr/local/lib/python3.6/dist-packages/keras/backend/tensorflow_backend.py:207: The name tf.global_variables is deprecated. Please use tf.compat.v1.global_variables instead.\n",
      "\n",
      "WARNING:tensorflow:From /usr/local/lib/python3.6/dist-packages/keras/backend/tensorflow_backend.py:216: The name tf.is_variable_initialized is deprecated. Please use tf.compat.v1.is_variable_initialized instead.\n",
      "\n",
      "WARNING:tensorflow:From /usr/local/lib/python3.6/dist-packages/keras/backend/tensorflow_backend.py:223: The name tf.variables_initializer is deprecated. Please use tf.compat.v1.variables_initializer instead.\n",
      "\n",
      "1546/1546 [==============================] - 1s 568us/step - loss: 0.0118 - acc: 6.4683e-04 - val_loss: 0.0104 - val_acc: 0.0000e+00\n",
      "Epoch 2/100\n",
      "1546/1546 [==============================] - 0s 109us/step - loss: 0.0057 - acc: 6.4683e-04 - val_loss: 0.0088 - val_acc: 0.0000e+00\n",
      "Epoch 3/100\n",
      "1546/1546 [==============================] - 0s 113us/step - loss: 0.0043 - acc: 6.4683e-04 - val_loss: 0.0062 - val_acc: 0.0000e+00\n",
      "Epoch 4/100\n",
      "1546/1546 [==============================] - 0s 116us/step - loss: 0.0028 - acc: 6.4683e-04 - val_loss: 0.0033 - val_acc: 0.0000e+00\n",
      "Epoch 5/100\n",
      "1546/1546 [==============================] - 0s 133us/step - loss: 0.0016 - acc: 6.4683e-04 - val_loss: 0.0012 - val_acc: 0.0000e+00\n",
      "Epoch 6/100\n",
      "1546/1546 [==============================] - 0s 128us/step - loss: 7.2264e-04 - acc: 6.4683e-04 - val_loss: 2.1399e-04 - val_acc: 0.0000e+00\n",
      "Epoch 7/100\n",
      "1546/1546 [==============================] - 0s 128us/step - loss: 4.6547e-04 - acc: 6.4683e-04 - val_loss: 5.1843e-05 - val_acc: 0.0000e+00\n",
      "Epoch 8/100\n",
      "1546/1546 [==============================] - 0s 137us/step - loss: 3.8064e-04 - acc: 6.4683e-04 - val_loss: 6.7439e-06 - val_acc: 0.0000e+00\n",
      "Epoch 9/100\n",
      "1546/1546 [==============================] - 0s 136us/step - loss: 3.7019e-04 - acc: 6.4683e-04 - val_loss: 6.4260e-05 - val_acc: 0.0000e+00\n",
      "Epoch 10/100\n",
      "1546/1546 [==============================] - 0s 141us/step - loss: 3.4384e-04 - acc: 6.4683e-04 - val_loss: 8.1608e-06 - val_acc: 0.0000e+00\n",
      "Epoch 11/100\n",
      "1546/1546 [==============================] - 0s 131us/step - loss: 3.2970e-04 - acc: 6.4683e-04 - val_loss: 1.9008e-05 - val_acc: 0.0000e+00\n",
      "Epoch 12/100\n",
      "1546/1546 [==============================] - 0s 129us/step - loss: 3.4220e-04 - acc: 6.4683e-04 - val_loss: 7.0964e-06 - val_acc: 0.0000e+00\n",
      "Epoch 13/100\n",
      "1546/1546 [==============================] - 0s 136us/step - loss: 3.3935e-04 - acc: 6.4683e-04 - val_loss: 3.6154e-05 - val_acc: 0.0000e+00\n",
      "Epoch 14/100\n",
      "1546/1546 [==============================] - 0s 134us/step - loss: 2.9750e-04 - acc: 6.4683e-04 - val_loss: 1.3674e-05 - val_acc: 0.0000e+00\n",
      "Epoch 15/100\n",
      "1546/1546 [==============================] - 0s 132us/step - loss: 2.8219e-04 - acc: 6.4683e-04 - val_loss: 2.6536e-06 - val_acc: 0.0000e+00\n",
      "Epoch 16/100\n",
      "1546/1546 [==============================] - 0s 120us/step - loss: 2.9177e-04 - acc: 6.4683e-04 - val_loss: 4.4275e-05 - val_acc: 0.0000e+00\n",
      "Epoch 17/100\n",
      "1546/1546 [==============================] - 0s 143us/step - loss: 2.9462e-04 - acc: 6.4683e-04 - val_loss: 2.9445e-05 - val_acc: 0.0000e+00\n",
      "Epoch 18/100\n",
      "1546/1546 [==============================] - 0s 128us/step - loss: 2.6336e-04 - acc: 6.4683e-04 - val_loss: 2.5116e-06 - val_acc: 0.0000e+00\n",
      "Epoch 19/100\n",
      "1546/1546 [==============================] - 0s 137us/step - loss: 2.4222e-04 - acc: 6.4683e-04 - val_loss: 5.6720e-06 - val_acc: 0.0000e+00\n",
      "Epoch 20/100\n",
      "1546/1546 [==============================] - 0s 136us/step - loss: 2.4203e-04 - acc: 6.4683e-04 - val_loss: 7.8592e-06 - val_acc: 0.0000e+00\n",
      "Epoch 21/100\n",
      "1546/1546 [==============================] - 0s 127us/step - loss: 2.3182e-04 - acc: 6.4683e-04 - val_loss: 2.6837e-05 - val_acc: 0.0000e+00\n",
      "Epoch 22/100\n",
      "1546/1546 [==============================] - 0s 139us/step - loss: 2.5250e-04 - acc: 6.4683e-04 - val_loss: 1.9235e-05 - val_acc: 0.0000e+00\n",
      "Epoch 23/100\n",
      "1546/1546 [==============================] - 0s 135us/step - loss: 2.3334e-04 - acc: 6.4683e-04 - val_loss: 7.2092e-05 - val_acc: 0.0000e+00\n",
      "Epoch 24/100\n",
      "1546/1546 [==============================] - 0s 149us/step - loss: 2.2939e-04 - acc: 6.4683e-04 - val_loss: 2.8737e-06 - val_acc: 0.0000e+00\n",
      "Epoch 25/100\n",
      "1546/1546 [==============================] - 0s 132us/step - loss: 1.9530e-04 - acc: 6.4683e-04 - val_loss: 2.6593e-06 - val_acc: 0.0000e+00\n",
      "Epoch 26/100\n",
      "1546/1546 [==============================] - 0s 136us/step - loss: 2.0765e-04 - acc: 6.4683e-04 - val_loss: 1.2020e-05 - val_acc: 0.0000e+00\n",
      "Epoch 27/100\n",
      "1546/1546 [==============================] - 0s 129us/step - loss: 2.0755e-04 - acc: 6.4683e-04 - val_loss: 2.5419e-06 - val_acc: 0.0000e+00\n",
      "Epoch 28/100\n",
      "1546/1546 [==============================] - 0s 122us/step - loss: 2.0352e-04 - acc: 6.4683e-04 - val_loss: 5.9862e-06 - val_acc: 0.0000e+00\n",
      "Epoch 29/100\n",
      "1546/1546 [==============================] - 0s 131us/step - loss: 2.0107e-04 - acc: 6.4683e-04 - val_loss: 5.7985e-06 - val_acc: 0.0000e+00\n",
      "Epoch 30/100\n",
      "1546/1546 [==============================] - 0s 151us/step - loss: 1.8635e-04 - acc: 6.4683e-04 - val_loss: 4.6133e-05 - val_acc: 0.0000e+00\n",
      "Epoch 31/100\n",
      "1546/1546 [==============================] - 0s 137us/step - loss: 1.7999e-04 - acc: 6.4683e-04 - val_loss: 1.8015e-05 - val_acc: 0.0000e+00\n",
      "Epoch 32/100\n",
      "1546/1546 [==============================] - 0s 130us/step - loss: 1.7092e-04 - acc: 6.4683e-04 - val_loss: 2.4180e-06 - val_acc: 0.0000e+00\n",
      "Epoch 33/100\n",
      "1546/1546 [==============================] - 0s 134us/step - loss: 1.7724e-04 - acc: 6.4683e-04 - val_loss: 2.6514e-06 - val_acc: 0.0000e+00\n",
      "Epoch 34/100\n",
      "1546/1546 [==============================] - 0s 130us/step - loss: 1.8113e-04 - acc: 6.4683e-04 - val_loss: 1.6632e-05 - val_acc: 0.0000e+00\n",
      "Epoch 35/100\n",
      "1546/1546 [==============================] - 0s 128us/step - loss: 1.7379e-04 - acc: 6.4683e-04 - val_loss: 1.5244e-05 - val_acc: 0.0000e+00\n",
      "Epoch 36/100\n",
      "1546/1546 [==============================] - 0s 131us/step - loss: 1.8141e-04 - acc: 6.4683e-04 - val_loss: 1.1266e-05 - val_acc: 0.0000e+00\n",
      "Epoch 37/100\n",
      "1546/1546 [==============================] - 0s 137us/step - loss: 1.7060e-04 - acc: 6.4683e-04 - val_loss: 2.7080e-06 - val_acc: 0.0000e+00\n",
      "Epoch 38/100\n",
      "1546/1546 [==============================] - 0s 131us/step - loss: 1.7079e-04 - acc: 6.4683e-04 - val_loss: 8.9585e-06 - val_acc: 0.0000e+00\n",
      "Epoch 39/100\n",
      "1546/1546 [==============================] - 0s 129us/step - loss: 1.6282e-04 - acc: 6.4683e-04 - val_loss: 2.7892e-06 - val_acc: 0.0000e+00\n",
      "Epoch 40/100\n",
      "1546/1546 [==============================] - 0s 137us/step - loss: 1.6776e-04 - acc: 6.4683e-04 - val_loss: 4.6233e-06 - val_acc: 0.0000e+00\n",
      "Epoch 41/100\n",
      "1546/1546 [==============================] - 0s 134us/step - loss: 1.5400e-04 - acc: 6.4683e-04 - val_loss: 3.4398e-06 - val_acc: 0.0000e+00\n",
      "Epoch 42/100\n",
      "1546/1546 [==============================] - 0s 138us/step - loss: 1.6101e-04 - acc: 6.4683e-04 - val_loss: 8.1327e-06 - val_acc: 0.0000e+00\n",
      "Epoch 43/100\n",
      "1546/1546 [==============================] - 0s 147us/step - loss: 1.6985e-04 - acc: 6.4683e-04 - val_loss: 9.7390e-06 - val_acc: 0.0000e+00\n",
      "Epoch 44/100\n",
      "1546/1546 [==============================] - 0s 128us/step - loss: 1.5603e-04 - acc: 6.4683e-04 - val_loss: 2.8088e-06 - val_acc: 0.0000e+00\n",
      "Epoch 45/100\n",
      "1546/1546 [==============================] - 0s 131us/step - loss: 1.6383e-04 - acc: 6.4683e-04 - val_loss: 7.4047e-06 - val_acc: 0.0000e+00\n",
      "Epoch 46/100\n",
      "1546/1546 [==============================] - 0s 128us/step - loss: 1.6010e-04 - acc: 6.4683e-04 - val_loss: 2.4573e-06 - val_acc: 0.0000e+00\n",
      "Epoch 47/100\n",
      "1546/1546 [==============================] - 0s 130us/step - loss: 1.4347e-04 - acc: 6.4683e-04 - val_loss: 2.1270e-05 - val_acc: 0.0000e+00\n",
      "Epoch 48/100\n",
      "1546/1546 [==============================] - 0s 129us/step - loss: 1.5054e-04 - acc: 6.4683e-04 - val_loss: 2.9926e-06 - val_acc: 0.0000e+00\n",
      "Epoch 49/100\n",
      "1546/1546 [==============================] - 0s 136us/step - loss: 1.5801e-04 - acc: 6.4683e-04 - val_loss: 3.0548e-06 - val_acc: 0.0000e+00\n",
      "Epoch 50/100\n",
      "1546/1546 [==============================] - 0s 128us/step - loss: 1.6100e-04 - acc: 6.4683e-04 - val_loss: 1.6735e-05 - val_acc: 0.0000e+00\n",
      "Epoch 51/100\n",
      "1546/1546 [==============================] - 0s 131us/step - loss: 1.5927e-04 - acc: 6.4683e-04 - val_loss: 2.3607e-06 - val_acc: 0.0000e+00\n",
      "Epoch 52/100\n",
      "1546/1546 [==============================] - 0s 134us/step - loss: 1.4892e-04 - acc: 6.4683e-04 - val_loss: 9.9566e-06 - val_acc: 0.0000e+00\n",
      "Epoch 53/100\n",
      "1546/1546 [==============================] - 0s 135us/step - loss: 1.5138e-04 - acc: 6.4683e-04 - val_loss: 1.1829e-05 - val_acc: 0.0000e+00\n",
      "Epoch 54/100\n",
      "1546/1546 [==============================] - 0s 130us/step - loss: 1.5204e-04 - acc: 6.4683e-04 - val_loss: 2.3282e-06 - val_acc: 0.0000e+00\n",
      "Epoch 55/100\n",
      "1546/1546 [==============================] - 0s 125us/step - loss: 1.5148e-04 - acc: 6.4683e-04 - val_loss: 2.5080e-06 - val_acc: 0.0000e+00\n",
      "Epoch 56/100\n",
      "1546/1546 [==============================] - 0s 135us/step - loss: 1.5940e-04 - acc: 6.4683e-04 - val_loss: 2.3765e-06 - val_acc: 0.0000e+00\n",
      "Epoch 57/100\n",
      "1546/1546 [==============================] - 0s 138us/step - loss: 1.5622e-04 - acc: 6.4683e-04 - val_loss: 7.6712e-06 - val_acc: 0.0000e+00\n",
      "Epoch 58/100\n",
      "1546/1546 [==============================] - 0s 134us/step - loss: 1.5912e-04 - acc: 6.4683e-04 - val_loss: 6.2166e-06 - val_acc: 0.0000e+00\n",
      "Epoch 59/100\n",
      "1546/1546 [==============================] - 0s 141us/step - loss: 1.5307e-04 - acc: 6.4683e-04 - val_loss: 3.5991e-06 - val_acc: 0.0000e+00\n",
      "Epoch 60/100\n",
      "1546/1546 [==============================] - 0s 144us/step - loss: 1.4789e-04 - acc: 6.4683e-04 - val_loss: 2.3459e-05 - val_acc: 0.0000e+00\n",
      "Epoch 61/100\n",
      "1546/1546 [==============================] - 0s 126us/step - loss: 1.6516e-04 - acc: 6.4683e-04 - val_loss: 7.5375e-06 - val_acc: 0.0000e+00\n",
      "Epoch 62/100\n",
      "1546/1546 [==============================] - 0s 143us/step - loss: 1.5375e-04 - acc: 6.4683e-04 - val_loss: 1.0728e-05 - val_acc: 0.0000e+00\n",
      "Epoch 63/100\n",
      "1546/1546 [==============================] - 0s 127us/step - loss: 1.5997e-04 - acc: 6.4683e-04 - val_loss: 8.1453e-06 - val_acc: 0.0000e+00\n",
      "Epoch 64/100\n",
      "1546/1546 [==============================] - 0s 128us/step - loss: 1.4737e-04 - acc: 6.4683e-04 - val_loss: 1.0983e-05 - val_acc: 0.0000e+00\n",
      "Epoch 65/100\n",
      "1546/1546 [==============================] - 0s 139us/step - loss: 1.6197e-04 - acc: 6.4683e-04 - val_loss: 2.4288e-06 - val_acc: 0.0000e+00\n",
      "Epoch 66/100\n",
      "1546/1546 [==============================] - 0s 127us/step - loss: 1.4713e-04 - acc: 6.4683e-04 - val_loss: 1.5601e-05 - val_acc: 0.0000e+00\n",
      "Epoch 67/100\n",
      "1546/1546 [==============================] - 0s 113us/step - loss: 1.5545e-04 - acc: 6.4683e-04 - val_loss: 2.9581e-06 - val_acc: 0.0000e+00\n",
      "Epoch 68/100\n",
      "1546/1546 [==============================] - 0s 102us/step - loss: 1.5480e-04 - acc: 6.4683e-04 - val_loss: 3.1093e-06 - val_acc: 0.0000e+00\n",
      "Epoch 69/100\n",
      "1546/1546 [==============================] - 0s 102us/step - loss: 1.4889e-04 - acc: 6.4683e-04 - val_loss: 3.7737e-06 - val_acc: 0.0000e+00\n",
      "Epoch 70/100\n",
      "1546/1546 [==============================] - 0s 103us/step - loss: 1.3881e-04 - acc: 6.4683e-04 - val_loss: 3.0385e-06 - val_acc: 0.0000e+00\n",
      "Epoch 71/100\n",
      "1546/1546 [==============================] - 0s 107us/step - loss: 1.2992e-04 - acc: 6.4683e-04 - val_loss: 4.1473e-06 - val_acc: 0.0000e+00\n",
      "Epoch 72/100\n",
      "1546/1546 [==============================] - 0s 104us/step - loss: 1.5043e-04 - acc: 6.4683e-04 - val_loss: 6.0691e-06 - val_acc: 0.0000e+00\n",
      "Epoch 73/100\n",
      "1546/1546 [==============================] - 0s 136us/step - loss: 1.4556e-04 - acc: 6.4683e-04 - val_loss: 5.6003e-05 - val_acc: 0.0000e+00\n",
      "Epoch 74/100\n",
      "1546/1546 [==============================] - 0s 145us/step - loss: 1.5598e-04 - acc: 6.4683e-04 - val_loss: 3.7029e-06 - val_acc: 0.0000e+00\n",
      "Epoch 75/100\n",
      "1546/1546 [==============================] - 0s 133us/step - loss: 1.4716e-04 - acc: 6.4683e-04 - val_loss: 3.3201e-06 - val_acc: 0.0000e+00\n",
      "Epoch 76/100\n",
      "1546/1546 [==============================] - 0s 131us/step - loss: 1.3984e-04 - acc: 6.4683e-04 - val_loss: 1.2922e-05 - val_acc: 0.0000e+00\n",
      "Epoch 77/100\n",
      "1546/1546 [==============================] - 0s 131us/step - loss: 1.5746e-04 - acc: 6.4683e-04 - val_loss: 8.7004e-06 - val_acc: 0.0000e+00\n",
      "Epoch 78/100\n",
      "1546/1546 [==============================] - 0s 136us/step - loss: 1.4581e-04 - acc: 6.4683e-04 - val_loss: 1.0337e-05 - val_acc: 0.0000e+00\n",
      "Epoch 79/100\n",
      "1546/1546 [==============================] - 0s 130us/step - loss: 1.4853e-04 - acc: 6.4683e-04 - val_loss: 2.5673e-06 - val_acc: 0.0000e+00\n",
      "Epoch 80/100\n",
      "1546/1546 [==============================] - 0s 134us/step - loss: 1.5582e-04 - acc: 6.4683e-04 - val_loss: 9.0496e-06 - val_acc: 0.0000e+00\n",
      "Epoch 81/100\n",
      "1546/1546 [==============================] - 0s 134us/step - loss: 1.5296e-04 - acc: 6.4683e-04 - val_loss: 1.1261e-05 - val_acc: 0.0000e+00\n",
      "Epoch 82/100\n",
      "1546/1546 [==============================] - 0s 131us/step - loss: 1.5307e-04 - acc: 6.4683e-04 - val_loss: 3.2440e-06 - val_acc: 0.0000e+00\n",
      "Epoch 83/100\n",
      "1546/1546 [==============================] - 0s 144us/step - loss: 1.4282e-04 - acc: 6.4683e-04 - val_loss: 2.4843e-06 - val_acc: 0.0000e+00\n",
      "Epoch 84/100\n",
      "1546/1546 [==============================] - 0s 131us/step - loss: 1.4792e-04 - acc: 6.4683e-04 - val_loss: 2.6922e-05 - val_acc: 0.0000e+00\n",
      "Epoch 85/100\n",
      "1546/1546 [==============================] - 0s 127us/step - loss: 1.5291e-04 - acc: 6.4683e-04 - val_loss: 3.7812e-06 - val_acc: 0.0000e+00\n",
      "Epoch 86/100\n",
      "1546/1546 [==============================] - 0s 133us/step - loss: 1.5239e-04 - acc: 6.4683e-04 - val_loss: 7.5900e-06 - val_acc: 0.0000e+00\n",
      "Epoch 87/100\n",
      "1546/1546 [==============================] - 0s 138us/step - loss: 1.4346e-04 - acc: 6.4683e-04 - val_loss: 4.3545e-06 - val_acc: 0.0000e+00\n",
      "Epoch 88/100\n",
      "1546/1546 [==============================] - 0s 150us/step - loss: 1.4092e-04 - acc: 6.4683e-04 - val_loss: 1.7195e-05 - val_acc: 0.0000e+00\n",
      "Epoch 89/100\n",
      "1546/1546 [==============================] - 0s 147us/step - loss: 1.5800e-04 - acc: 6.4683e-04 - val_loss: 5.6119e-06 - val_acc: 0.0000e+00\n",
      "Epoch 90/100\n",
      "1546/1546 [==============================] - 0s 135us/step - loss: 1.4969e-04 - acc: 6.4683e-04 - val_loss: 5.6736e-06 - val_acc: 0.0000e+00\n",
      "Epoch 91/100\n",
      "1546/1546 [==============================] - 0s 144us/step - loss: 1.4306e-04 - acc: 6.4683e-04 - val_loss: 2.3046e-06 - val_acc: 0.0000e+00\n",
      "Epoch 92/100\n",
      "1546/1546 [==============================] - 0s 140us/step - loss: 1.3864e-04 - acc: 6.4683e-04 - val_loss: 6.7969e-06 - val_acc: 0.0000e+00\n",
      "Epoch 93/100\n",
      "1546/1546 [==============================] - 0s 139us/step - loss: 1.3281e-04 - acc: 6.4683e-04 - val_loss: 4.2836e-06 - val_acc: 0.0000e+00\n",
      "Epoch 94/100\n",
      "1546/1546 [==============================] - 0s 191us/step - loss: 1.3750e-04 - acc: 6.4683e-04 - val_loss: 1.0171e-05 - val_acc: 0.0000e+00\n",
      "Epoch 95/100\n",
      "1546/1546 [==============================] - 0s 167us/step - loss: 1.2789e-04 - acc: 6.4683e-04 - val_loss: 6.5785e-06 - val_acc: 0.0000e+00\n",
      "Epoch 96/100\n",
      "1546/1546 [==============================] - 0s 148us/step - loss: 1.5292e-04 - acc: 6.4683e-04 - val_loss: 2.1395e-05 - val_acc: 0.0000e+00\n",
      "Epoch 97/100\n",
      "1546/1546 [==============================] - 0s 146us/step - loss: 1.3874e-04 - acc: 6.4683e-04 - val_loss: 3.5952e-06 - val_acc: 0.0000e+00\n",
      "Epoch 98/100\n",
      "1546/1546 [==============================] - 0s 144us/step - loss: 1.3261e-04 - acc: 6.4683e-04 - val_loss: 1.4976e-05 - val_acc: 0.0000e+00\n",
      "Epoch 99/100\n",
      "1546/1546 [==============================] - 0s 137us/step - loss: 1.3780e-04 - acc: 6.4683e-04 - val_loss: 4.8467e-06 - val_acc: 0.0000e+00\n",
      "Epoch 100/100\n",
      "1546/1546 [==============================] - 0s 148us/step - loss: 1.4290e-04 - acc: 6.4683e-04 - val_loss: 3.0838e-06 - val_acc: 0.0000e+00\n"
     ]
    }
   ],
   "source": [
    "history = model.fit(X_train, y_train, epochs=100, batch_size=32, validation_split=0.33)"
   ]
  },
  {
   "cell_type": "markdown",
   "metadata": {},
   "source": [
    "### Predicting on our Test set"
   ]
  },
  {
   "cell_type": "code",
   "execution_count": 0,
   "metadata": {
    "colab": {},
    "colab_type": "code",
    "id": "O6UOWV_gEc8A"
   },
   "outputs": [],
   "source": [
    "testPredict = model.predict(X_test)"
   ]
  },
  {
   "cell_type": "markdown",
   "metadata": {},
   "source": [
    "### Plotting Train Loss vs Validation Loss"
   ]
  },
  {
   "cell_type": "code",
   "execution_count": 29,
   "metadata": {
    "colab": {
     "base_uri": "https://localhost:8080/",
     "height": 533
    },
    "colab_type": "code",
    "id": "_eF4Jch6E2QE",
    "outputId": "846ec1cb-3bc0-4427-b08c-e11fdf02f0fa"
   },
   "outputs": [
    {
     "data": {
      "image/png": "[encoded data removed]",
      "text/plain": [
       "<Figure size 1152x576 with 1 Axes>"
      ]
     },
     "metadata": {
      "tags": []
     },
     "output_type": "display_data"
    }
   ],
   "source": [
    "plt.plot(history.history['loss'])\n",
    "plt.plot(history.history['val_loss'])\n",
    "plt.title('model train vs validation loss')\n",
    "plt.ylabel('loss')\n",
    "plt.xlabel('epoch')\n",
    "plt.legend(['train', 'validation'], loc='upper right')\n",
    "plt.show()"
   ]
  },
  {
   "cell_type": "markdown",
   "metadata": {},
   "source": [
    "### Calculating the Root Mean Square Error of our Model"
   ]
  },
  {
   "cell_type": "code",
   "execution_count": 0,
   "metadata": {
    "colab": {},
    "colab_type": "code",
    "id": "eJHovav-E9Yr"
   },
   "outputs": [],
   "source": [
    "testforrmse = np.array(testPredict).reshape(-1, 1)\n",
    "predforrmse = np.array(X_test).reshape(-1, 1)\n",
    "rmse_lstm = sqrt(mean_squared_error(testforrmse, predforrmse))"
   ]
  },
  {
   "cell_type": "code",
   "execution_count": 0,
   "metadata": {
    "colab": {},
    "colab_type": "code",
    "id": "uG00cJNrFG0c"
   },
   "outputs": [],
   "source": [
    "trainPredict = model.predict(X_train)\n",
    "\n",
    "trainPredict = scaler.inverse_transform(np.array(trainPredict).reshape(-1, 1))\n",
    "df['Price'] = scaler.inverse_transform(df[['Price']])\n",
    "testPredict = scaler.inverse_transform(np.array(testPredict).reshape(-1, 1))\n",
    "testX = scaler.inverse_transform(np.array(X_test).reshape(-1, 1))"
   ]
  },
  {
   "cell_type": "code",
   "execution_count": 32,
   "metadata": {
    "colab": {
     "base_uri": "https://localhost:8080/",
     "height": 52
    },
    "colab_type": "code",
    "id": "LMKErcwMFLUN",
    "outputId": "e14808c4-2866-49eb-a0f2-2e1d6fcb80cf"
   },
   "outputs": [
    {
     "name": "stdout",
     "output_type": "stream",
     "text": [
      "Train Score: 97.47 RMSE\n",
      "Test Score: 128.37 RMSE\n"
     ]
    }
   ],
   "source": [
    "trainScore = math.sqrt(mean_squared_error(y_train[:,0], trainPredict[:,0]))\n",
    "print('Train Score: %.2f RMSE' % (trainScore))\n",
    "testScore = math.sqrt(mean_squared_error(y_test[:,0], testPredict[:,0]))\n",
    "print('Test Score: %.2f RMSE' % (testScore))"
   ]
  },
  {
   "cell_type": "markdown",
   "metadata": {},
   "source": [
    "# Plotting Results"
   ]
  },
  {
   "cell_type": "code",
   "execution_count": 33,
   "metadata": {
    "colab": {
     "base_uri": "https://localhost:8080/",
     "height": 533
    },
    "colab_type": "code",
    "id": "AV3nmOkyFcQb",
    "outputId": "95b3e9fa-35ca-4211-cca3-4b22fe76c6b0"
   },
   "outputs": [
    {
     "data": {
      "image/png": "[encoded data removed]",
      "text/plain": [
       "<Figure size 1152x576 with 1 Axes>"
      ]
     },
     "metadata": {
      "tags": []
     },
     "output_type": "display_data"
    }
   ],
   "source": [
    "fig2, ax2 = plt.subplots()\n",
    "ax2.plot(df.index[:2312],df['Price'][:2312],label='Original',color='orange')\n",
    "ax2.plot(df.index[2312:],testPredict,label='Prediction',color='red')\n",
    "ax2.plot(df.index[2312:],df['Price'][2312:],label='Actual',color='green')\n",
    "ax2.xaxis.set_major_locator(mdates.YearLocator())\n",
    "ax2.legend(fontsize=12)\n",
    "plt.xlabel('Date')\n",
    "plt.ylabel('Close Price')\n",
    "plt.title(\"LSTM Predicitions on KSE 100\")\n",
    "plt.show()"
   ]
  },
  {
   "cell_type": "code",
   "execution_count": 0,
   "metadata": {
    "colab": {},
    "colab_type": "code",
    "id": "tvPauvRDF5Il"
   },
   "outputs": [],
   "source": []
  }
 ],
 "metadata": {
  "colab": {
   "collapsed_sections": [],
   "name": "Dollar-Price-Predictor.ipynb",
   "provenance": []
  },
  "kernelspec": {
   "display_name": "Python 3",
   "language": "python",
   "name": "python3"
  },
  "language_info": {
   "codemirror_mode": {
    "name": "ipython",
    "version": 3
   },
   "file_extension": ".py",
   "mimetype": "text/x-python",
   "name": "python",
   "nbconvert_exporter": "python",
   "pygments_lexer": "ipython3",
   "version": "3.7.1"
  }
 },
 "nbformat": 4,
 "nbformat_minor": 1
}
